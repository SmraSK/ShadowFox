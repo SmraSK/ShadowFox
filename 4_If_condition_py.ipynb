{
  "nbformat": 4,
  "nbformat_minor": 0,
  "metadata": {
    "colab": {
      "provenance": [],
      "authorship_tag": "ABX9TyN/IbXQIzkFPCnhLZjoeG37",
      "include_colab_link": true
    },
    "kernelspec": {
      "name": "python3",
      "display_name": "Python 3"
    },
    "language_info": {
      "name": "python"
    }
  },
  "cells": [
    {
      "cell_type": "markdown",
      "metadata": {
        "id": "view-in-github",
        "colab_type": "text"
      },
      "source": [
        "<a href=\"https://colab.research.google.com/github/SmraSK/ShadowFox/blob/main/4_If_condition_py.ipynb\" target=\"_parent\"><img src=\"https://colab.research.google.com/assets/colab-badge.svg\" alt=\"Open In Colab\"/></a>"
      ]
    },
    {
      "cell_type": "markdown",
      "source": [
        "4. If ***Condition***"
      ],
      "metadata": {
        "id": "VF8_T-w45c_X"
      }
    },
    {
      "cell_type": "markdown",
      "source": [
        "1. Write a program to determine the BMI Category based on user input.\n",
        "Ask the user to:\n",
        "Enter height in meters\n",
        "Enter weight in kilograms\n",
        "Calculate BMI using the formula: BMI = weight / (height)2\n",
        "Use the following categories:\n",
        "If BMI is 30 or greater, print \"Obesity\"\n",
        "If BMI is between 25 and 29, print \"Overweight\"\n",
        "If BMI is between 18.5 and 25, print \"Normal\"\n",
        "If BMI is less than 18.5, print \"Underweight\"\n",
        "\n",
        "Example:\n",
        "Enter height in meters: 1.75\n",
        "Enter weight in kilograms: 70\n",
        "Output: \"Normal\""
      ],
      "metadata": {
        "id": "5EtgRYNG5nEO"
      }
    },
    {
      "cell_type": "code",
      "execution_count": 5,
      "metadata": {
        "colab": {
          "base_uri": "https://localhost:8080/"
        },
        "id": "n0reVz_15bFl",
        "outputId": "78cee490-9e85-43c9-ec70-1a1229116477"
      },
      "outputs": [
        {
          "name": "stdout",
          "output_type": "stream",
          "text": [
            "Enter height in meters: 1.72\n",
            "Enter weight in kilograms: 60\n"
          ]
        }
      ],
      "source": [
        "height = float(input(\"Enter height in meters: \"))\n",
        "weight = float(input(\"Enter weight in kilograms: \"))\n",
        "bmi = weight/(height)**2"
      ]
    },
    {
      "cell_type": "code",
      "source": [
        "if bmi >=30:\n",
        "  print(\"obesity\")"
      ],
      "metadata": {
        "id": "4759GOlx869Y"
      },
      "execution_count": 6,
      "outputs": []
    },
    {
      "cell_type": "code",
      "source": [
        "if bmi >25 and bmi <29:\n",
        "  print(\"Overweight\")"
      ],
      "metadata": {
        "id": "EWbHmIaV8z1L"
      },
      "execution_count": 7,
      "outputs": []
    },
    {
      "cell_type": "code",
      "source": [
        "if bmi >18.5 and bmi <25:\n",
        "  print(\"Normal\")"
      ],
      "metadata": {
        "id": "4sRt9aNQ9g4C",
        "colab": {
          "base_uri": "https://localhost:8080/"
        },
        "outputId": "647bebd7-dc01-4096-9dbd-997b42c8b8c8"
      },
      "execution_count": 8,
      "outputs": [
        {
          "output_type": "stream",
          "name": "stdout",
          "text": [
            "Normal\n"
          ]
        }
      ]
    },
    {
      "cell_type": "code",
      "source": [
        "if bmi <18.5:\n",
        "  print(\"Underweight\")"
      ],
      "metadata": {
        "id": "P6Pp3-6794US"
      },
      "execution_count": 9,
      "outputs": []
    },
    {
      "cell_type": "markdown",
      "source": [
        "2. Write a program to determine which country a city belongs to. Given\n",
        "list of cities per country:\n",
        "\n",
        "Australia = [\"Sydney\"\n",
        ",\n",
        "\"Melbourne\"\n",
        ",\n",
        "\"Brisbane\"\n",
        ",\n",
        "\"Perth\"]\n",
        "\n",
        "UAE = [\"Dubai\"\n",
        ",\n",
        "\"Abu Dhabi\"\n",
        ",\n",
        "\"Sharjah\"\n",
        ",\n",
        "\"Ajman\"]\n",
        "\n",
        "India = [\"Mumbai\"\n",
        ",\n",
        "\"Bangalore\"\n",
        ",\n",
        "\"Chennai\"\n",
        ",\n",
        "\"Delhi\"]\n",
        "\n",
        "Ask the user to enter a city name and print the corresponding country.\n",
        "Example:\n",
        "Enter a city name: \"Abu Dhabi\"\n",
        "Output: \"Abu Dhabi is in UAE\""
      ],
      "metadata": {
        "id": "2IlhbijS_VsT"
      }
    },
    {
      "cell_type": "code",
      "source": [
        "Australia = [\"Sydney\" , \"Melbourne\" , \"Brisbane\" , \"Perth\"]\n",
        "\n",
        "UAE = [\"Dubai\" , \"Abu Dhabi\" , \"Sharjah\" , \"Ajman\"]\n",
        "\n",
        "India = [\"Mumbai\" , \"Bangalore\" , \"Chennai\" , \"Delhi\"]\n",
        "print(Australia)\n",
        "print(UAE)\n",
        "print(India)"
      ],
      "metadata": {
        "id": "pw-Ujm5E_cej",
        "colab": {
          "base_uri": "https://localhost:8080/"
        },
        "outputId": "42d8a7a8-95f7-4948-df0a-4740dbded172"
      },
      "execution_count": 10,
      "outputs": [
        {
          "output_type": "stream",
          "name": "stdout",
          "text": [
            "['Sydney', 'Melbourne', 'Brisbane', 'Perth']\n",
            "['Dubai', 'Abu Dhabi', 'Sharjah', 'Ajman']\n",
            "['Mumbai', 'Bangalore', 'Chennai', 'Delhi']\n"
          ]
        }
      ]
    },
    {
      "cell_type": "code",
      "source": [
        "city = input(\"Enter a city name: \")\n",
        "if city in Australia:\n",
        "  print(f\"{city} is in Australia.\")\n",
        "elif city in UAE:\n",
        "  print(f\"{city} is in UAE.\")\n",
        "else:\n",
        "  print(f\"{city} is in India.\")"
      ],
      "metadata": {
        "colab": {
          "base_uri": "https://localhost:8080/"
        },
        "id": "FT_tr-b8q4nY",
        "outputId": "7cadc5d8-7dbb-40b3-e036-471a716914c8"
      },
      "execution_count": 11,
      "outputs": [
        {
          "output_type": "stream",
          "name": "stdout",
          "text": [
            "Enter a city name: Mumbai\n",
            "Mumbai is in India.\n"
          ]
        }
      ]
    },
    {
      "cell_type": "markdown",
      "source": [
        "3. Write a program to check if two cities belong to the same country.\n",
        "Ask the user to enter two cities and print whether they belong to the\n",
        "same country or not.\n",
        "\n",
        "Example:\n",
        "Enter the first city: \"Mumbai\"\n",
        "Enter the second city: \"Chennai\"\n",
        "Output: \"Both cities are in India\"\n",
        "\n",
        "Example:\n",
        "Enter the first city: \"Sydney\"\n",
        "Enter the second city: \"Dubai\"\n",
        "Output: \"They don't belong to the same country\""
      ],
      "metadata": {
        "id": "kynLORz1sxCM"
      }
    },
    {
      "cell_type": "code",
      "source": [
        "city1 = input(\"Enter city1: \")\n",
        "city2 = input(\"Enter city2: \")\n",
        "print(f\"city1 entered is: {city1} \")\n",
        "print(f\"city2 entered is: {city2} \")"
      ],
      "metadata": {
        "colab": {
          "base_uri": "https://localhost:8080/"
        },
        "id": "UJwctX-Vs__a",
        "outputId": "5659ceab-70c4-4cfe-9cf0-36b56de37062"
      },
      "execution_count": 16,
      "outputs": [
        {
          "output_type": "stream",
          "name": "stdout",
          "text": [
            "Enter city1: Chennai\n",
            "Enter city2: Mumbai\n",
            "city1 entered is: Chennai \n",
            "city2 entered is: Mumbai \n"
          ]
        }
      ]
    },
    {
      "cell_type": "code",
      "source": [
        "if ((city1 in Australia and city2 in Australia) or (city1 in UAE and city2 in UAE) or (city1 in India and city2 in India)):\n",
        "  print(\"Both the cities are in the same country.\")\n",
        "else:\n",
        "  print(\"Both the cities are not in the same country.\")"
      ],
      "metadata": {
        "colab": {
          "base_uri": "https://localhost:8080/"
        },
        "id": "59EgSxUAtmNK",
        "outputId": "2fcc7fee-c410-4ee9-c6a5-86dfbe0a8423"
      },
      "execution_count": 17,
      "outputs": [
        {
          "output_type": "stream",
          "name": "stdout",
          "text": [
            "Both the cities are in the same country.\n"
          ]
        }
      ]
    }
  ]
}