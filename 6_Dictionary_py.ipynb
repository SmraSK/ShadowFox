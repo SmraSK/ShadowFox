{
  "nbformat": 4,
  "nbformat_minor": 0,
  "metadata": {
    "colab": {
      "provenance": [],
      "authorship_tag": "ABX9TyPefGBct9Vr0x8wQZb9hZAZ",
      "include_colab_link": true
    },
    "kernelspec": {
      "name": "python3",
      "display_name": "Python 3"
    },
    "language_info": {
      "name": "python"
    }
  },
  "cells": [
    {
      "cell_type": "markdown",
      "metadata": {
        "id": "view-in-github",
        "colab_type": "text"
      },
      "source": [
        "<a href=\"https://colab.research.google.com/github/SmraSK/ShadowFox/blob/main/6_Dictionary_py.ipynb\" target=\"_parent\"><img src=\"https://colab.research.google.com/assets/colab-badge.svg\" alt=\"Open In Colab\"/></a>"
      ]
    },
    {
      "cell_type": "markdown",
      "source": [
        "***6. Dictionary***"
      ],
      "metadata": {
        "id": "eswM9ZuXNy0u"
      }
    },
    {
      "cell_type": "markdown",
      "source": [
        "1. Create a list of your friends' names. The list should have at least 5 names.\n",
        "Create a list of tuples. Each tuple should contain a friend's name and the length\n",
        "of the name.\n",
        "\n",
        "For example, if someone’s name is Aditya, the tuple would be: ('Aditya', 6)"
      ],
      "metadata": {
        "id": "SqMzvBxoEwpm"
      }
    },
    {
      "cell_type": "code",
      "execution_count": 14,
      "metadata": {
        "colab": {
          "base_uri": "https://localhost:8080/"
        },
        "id": "KoHHw_JqAOnO",
        "outputId": "ea6d9bcb-7735-4a34-ec66-12db96257b50"
      },
      "outputs": [
        {
          "output_type": "stream",
          "name": "stdout",
          "text": [
            "[('Neela', 5), ('Sameera', 7), ('Tanush', 6), ('Kavitha', 7), ('Shaffi', 6)]\n"
          ]
        }
      ],
      "source": [
        "friends_list = [\"Neela\", \"Sameera\", \"Tanush\", \"Kavitha\", \"Shaffi\"]\n",
        "friends_tuple = [(friend, len(friend)) for friend in friends_list]\n",
        "print(friends_tuple)"
      ]
    },
    {
      "cell_type": "markdown",
      "source": [
        "2.You and your partner are planning a trip, and you want to track expenses.\n",
        "\n",
        "Create two dictionaries, one for your expenses and one for your partner's\n",
        "expenses. Each dictionary should contain at least 5 expense categories and their\n",
        "corresponding amounts.\n",
        "\n",
        "For example:\n",
        "Your expenses\n",
        "your_expenses = {\n",
        "\"Hotel\": 1200,\n",
        "\"Food\": 800,\n",
        "\"Transportation\": 500,\n",
        "\"Attractions\": 300,\n",
        "\"Miscellaneous\": 200}\n",
        "\n",
        "Your partner's expenses\n",
        "partner_expenses = {\n",
        "\"Hotel\": 1000,\n",
        "\"Food\": 900,\n",
        "\"Transportation\": 600,\n",
        "\"Attractions\": 400,\n",
        "\"Miscellaneous\": 150\\}\n",
        "\n",
        "Calculate the total expenses for each of you and print the results.\n",
        "\n",
        "Determine who spent more money overall and print the result.\n",
        "\n",
        "Find out the expense category where there is a significant difference in spending between you and your partner.\n",
        "\n",
        "Print the category and the difference."
      ],
      "metadata": {
        "id": "9KsihwD3GLsQ"
      }
    },
    {
      "cell_type": "code",
      "source": [
        "my_expenses = {\n",
        "    \"Hotel\": 1200,\n",
        "    \"Food\": 800,\n",
        "    \"Transportation\": 500,\n",
        "    \"Attractions\": 300,\n",
        "    \"Miscellaneous\": 200\n",
        "}\n",
        "\n",
        "partner_expenses = {\n",
        "    \"Hotel\": 1000,\n",
        "    \"Food\": 900,\n",
        "    \"Transportation\": 600,\n",
        "    \"Attractions\": 400,\n",
        "    \"Miscellaneous\": 150\n",
        "}\n",
        "\n",
        "my_total_expenses = sum(my_expenses.values())\n",
        "partner_total_expenses = sum(partner_expenses.values())\n",
        "\n",
        "print(\"My total expenses:\", my_total_expenses)\n",
        "print(\"Partner's total expenses:\", partner_total_expenses)"
      ],
      "metadata": {
        "colab": {
          "base_uri": "https://localhost:8080/"
        },
        "id": "i-wS9yVOGhte",
        "outputId": "bddf6ae5-c258-4489-a274-0f90e2b88c6a"
      },
      "execution_count": 15,
      "outputs": [
        {
          "output_type": "stream",
          "name": "stdout",
          "text": [
            "My total expenses: 3000\n",
            "Partner's total expenses: 3050\n"
          ]
        }
      ]
    },
    {
      "cell_type": "markdown",
      "source": [
        "Determine who spent more money overall and print the result."
      ],
      "metadata": {
        "id": "NcpHPRvIITNt"
      }
    },
    {
      "cell_type": "code",
      "source": [
        "if my_total_expenses > partner_total_expenses:\n",
        "    difference = my_total_expenses - partner_total_expenses\n",
        "    print(f\"I spent more money.The difference is {difference}.\")\n",
        "elif my_total_expenses < partner_total_expenses:\n",
        "    difference = partner_total_expenses - my_total_expenses\n",
        "    print(f\"My partner spent more money.The difference is {difference}.\")\n",
        "else:\n",
        "    print(\"We spent the same amount of money.\")"
      ],
      "metadata": {
        "colab": {
          "base_uri": "https://localhost:8080/"
        },
        "id": "NApuDu2NIKNV",
        "outputId": "a94de2f6-16ba-4afb-ffcf-3cae4022e94d"
      },
      "execution_count": 16,
      "outputs": [
        {
          "output_type": "stream",
          "name": "stdout",
          "text": [
            "My partner spent more money.The difference is 50.\n"
          ]
        }
      ]
    },
    {
      "cell_type": "markdown",
      "source": [
        "Find out the expense category where there is a significant difference in spending between you and your partner."
      ],
      "metadata": {
        "id": "L_vg8ZmgInrk"
      }
    },
    {
      "cell_type": "code",
      "source": [
        "more_different = 0\n",
        "different_category = \"\"\n",
        "for category in my_expenses:\n",
        "    my_expense = my_expenses[category]\n",
        "    partner_expense = partner_expenses[category]\n",
        "    diff_in_expense = my_expense - partner_expense\n",
        "    if diff_in_expense < 0:\n",
        "       diff_in_expense = diff_in_expense * -1\n",
        "    if diff_in_expense > more_different:\n",
        "      more_different = diff_in_expense\n",
        "      different_category = category\n",
        "print(f\" the expense category where there is a significant difference in spending between me and my partner is '{different_category}' with the difference of {more_different}.\")"
      ],
      "metadata": {
        "colab": {
          "base_uri": "https://localhost:8080/"
        },
        "id": "mxpodOs-KQY6",
        "outputId": "5ed48c9d-8220-4fc6-cd72-4d563fe2a497"
      },
      "execution_count": 17,
      "outputs": [
        {
          "output_type": "stream",
          "name": "stdout",
          "text": [
            " the expense category where there is a significant difference in spending between me and my partner is 'Hotel' with the difference of 200.\n"
          ]
        }
      ]
    }
  ]
}