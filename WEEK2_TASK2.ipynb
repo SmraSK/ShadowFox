{
  "nbformat": 4,
  "nbformat_minor": 0,
  "metadata": {
    "colab": {
      "provenance": [],
      "authorship_tag": "ABX9TyNCXFPSV/TMoO+rvfvTmwMa",
      "include_colab_link": true
    },
    "kernelspec": {
      "name": "python3",
      "display_name": "Python 3"
    },
    "language_info": {
      "name": "python"
    }
  },
  "cells": [
    {
      "cell_type": "markdown",
      "metadata": {
        "id": "view-in-github",
        "colab_type": "text"
      },
      "source": [
        "<a href=\"https://colab.research.google.com/github/SmraSK/ShadowFox/blob/main/WEEK2_TASK2.ipynb\" target=\"_parent\"><img src=\"https://colab.research.google.com/assets/colab-badge.svg\" alt=\"Open In Colab\"/></a>"
      ]
    },
    {
      "cell_type": "markdown",
      "source": [
        "***Hangman: Develop a word-guessing game with visual progress\n",
        "and hints to assist players in guessing the hidden word.***"
      ],
      "metadata": {
        "id": "duAP48Y3IGTZ"
      }
    },
    {
      "cell_type": "code",
      "source": [
        "# Python Program to illustrate\n",
        "# Hangman Game\n",
        "import random\n",
        "from collections import Counter\n",
        "someWords = '''apple banana mango strawberry\n",
        "orange grape pineapple apricot lemon coconut watermelon\n",
        "cherry papaya berry peach lychee muskmelon'''\n",
        "someWords = someWords.split(' ')\n",
        "# randomly choose a secret word from our \"someWords\" LIST.\n",
        "word = random.choice(someWords)\n",
        "if __name__ == '__main__':\n",
        "    print('Guess the word! HINT: word is a name of a fruit')\n",
        "    for i in word:\n",
        "        # For printing the empty spaces for letters of the word\n",
        "        print('_', end=' ')\n",
        "    print()\n",
        "    playing = True\n",
        "    # List for storing the letters guessed by the player\n",
        "    letterGuessed = ''\n",
        "    chances = len(word) + 2\n",
        "    correct = 0\n",
        "    flag = 0\n",
        "    try:\n",
        "        while (chances != 0) and flag == 0:  # Flag is updated when the word is correctly guessed\n",
        "            print()\n",
        "            chances -= 1\n",
        "            try:\n",
        "                guess = str(input('Enter a letter to guess: '))\n",
        "            except:\n",
        "                print('Enter only a letter!')\n",
        "                continue\n",
        "            # Validation of the guess\n",
        "            if not guess.isalpha():\n",
        "                print('Enter only a LETTER')\n",
        "                continue\n",
        "            elif len(guess) > 1:\n",
        "                print('Enter only a SINGLE letter')\n",
        "                continue\n",
        "            elif guess in letterGuessed:\n",
        "                print('You have already guessed that letter')\n",
        "                continue\n",
        "            # If letter is guessed correctly\n",
        "            if guess in word:\n",
        "                # k stores the number of times the guessed letter occurs in the word\n",
        "                k = word.count(guess)\n",
        "                for _ in range(k):\n",
        "                    letterGuessed += guess  # The guessed letter is added as many times as it occurs\n",
        "            # Print the word\n",
        "            for char in word:\n",
        "                if char in letterGuessed and (Counter(letterGuessed) != Counter(word)):\n",
        "                    print(char, end=' ')\n",
        "                    correct += 1\n",
        "                # If user has guessed all the letters\n",
        "                # Once the correct word is guessed fully,\n",
        "                elif (Counter(letterGuessed) == Counter(word)):\n",
        "                    # the game ends, even if chances remain\n",
        "                    print(\"The word is: \", end=' ')\n",
        "                    print(word)\n",
        "                    flag = 1\n",
        "                    print('Congratulations, You won!')\n",
        "                    break  # To break out of the for loop\n",
        "                    break  # To break out of the while loop\n",
        "                else:\n",
        "                    print('_', end=' ')\n",
        "        # If user has used all of his chances\n",
        "        if chances <= 0 and (Counter(letterGuessed) != Counter(word)):\n",
        "            print()\n",
        "            print('You lost! Try again..')\n",
        "            print('The word was {}'.format(word))\n",
        "    except KeyboardInterrupt:\n",
        "        print()\n",
        "        print('Bye! Try again.')\n",
        "        exit()"
      ],
      "metadata": {
        "colab": {
          "base_uri": "https://localhost:8080/",
          "height": 0
        },
        "id": "OrHqXQlOHSac",
        "outputId": "5f299b29-9825-4a9b-a470-bb7df6a60cef"
      },
      "execution_count": 1,
      "outputs": [
        {
          "output_type": "stream",
          "name": "stdout",
          "text": [
            "Guess the word! HINT: word is a name of a fruit\n",
            "_ _ _ _ _ \n",
            "\n",
            "Enter a letter to guess: a\n",
            "_ a _ _ _ \n",
            "Enter a letter to guess: m\n",
            "m a _ _ _ \n",
            "Enter a letter to guess: n\n",
            "m a n _ _ \n",
            "Enter a letter to guess: g\n",
            "m a n g _ \n",
            "Enter a letter to guess: o\n",
            "The word is:  mango\n",
            "Congratulations, You won!\n"
          ]
        }
      ]
    }
  ]
}