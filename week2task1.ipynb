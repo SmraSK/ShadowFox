{
  "nbformat": 4,
  "nbformat_minor": 0,
  "metadata": {
    "colab": {
      "provenance": [],
      "authorship_tag": "ABX9TyPRZDhJ5bwH5m5dDLmsGyVt",
      "include_colab_link": true
    },
    "kernelspec": {
      "name": "python3",
      "display_name": "Python 3"
    },
    "language_info": {
      "name": "python"
    }
  },
  "cells": [
    {
      "cell_type": "markdown",
      "metadata": {
        "id": "view-in-github",
        "colab_type": "text"
      },
      "source": [
        "<a href=\"https://colab.research.google.com/github/SmraSK/ShadowFox/blob/main/week2task1.ipynb\" target=\"_parent\"><img src=\"https://colab.research.google.com/assets/colab-badge.svg\" alt=\"Open In Colab\"/></a>"
      ]
    },
    {
      "cell_type": "markdown",
      "source": [
        "***Extract data from websites using websites like Beautiful soup or Scrapy.***\n",
        "\n",
        "1) ShadowFox"
      ],
      "metadata": {
        "id": "Qz1qIo7IHpNB"
      }
    },
    {
      "cell_type": "code",
      "source": [
        "!pip install beautifulsoup4 requests\n",
        "import requests\n",
        "from bs4 import BeautifulSoup"
      ],
      "metadata": {
        "colab": {
          "base_uri": "https://localhost:8080/"
        },
        "id": "PGVDXdsOHoDg",
        "outputId": "c50cdd93-155b-4ac9-94db-5208c3a4185c"
      },
      "execution_count": 29,
      "outputs": [
        {
          "output_type": "stream",
          "name": "stdout",
          "text": [
            "Requirement already satisfied: beautifulsoup4 in /usr/local/lib/python3.12/dist-packages (4.13.5)\n",
            "Requirement already satisfied: requests in /usr/local/lib/python3.12/dist-packages (2.32.4)\n",
            "Requirement already satisfied: soupsieve>1.2 in /usr/local/lib/python3.12/dist-packages (from beautifulsoup4) (2.8)\n",
            "Requirement already satisfied: typing-extensions>=4.0.0 in /usr/local/lib/python3.12/dist-packages (from beautifulsoup4) (4.15.0)\n",
            "Requirement already satisfied: charset_normalizer<4,>=2 in /usr/local/lib/python3.12/dist-packages (from requests) (3.4.3)\n",
            "Requirement already satisfied: idna<4,>=2.5 in /usr/local/lib/python3.12/dist-packages (from requests) (3.10)\n",
            "Requirement already satisfied: urllib3<3,>=1.21.1 in /usr/local/lib/python3.12/dist-packages (from requests) (2.5.0)\n",
            "Requirement already satisfied: certifi>=2017.4.17 in /usr/local/lib/python3.12/dist-packages (from requests) (2025.8.3)\n"
          ]
        }
      ]
    },
    {
      "cell_type": "code",
      "source": [
        "url = \"https://www.shadowfox.org.in/internships\"\n",
        "response = requests.get(url)\n",
        "html_content = response.text"
      ],
      "metadata": {
        "id": "nvqHzSEpLfi9"
      },
      "execution_count": 30,
      "outputs": []
    },
    {
      "cell_type": "code",
      "source": [
        "soup = BeautifulSoup(html_content, \"html.parser\")\n",
        "headings = soup.find_all(\"h2\")\n",
        "for heading in headings:\n",
        "    print(heading.text)"
      ],
      "metadata": {
        "colab": {
          "base_uri": "https://localhost:8080/"
        },
        "id": "_VBcuy8uL4tI",
        "outputId": "4b8092db-274b-4366-b26f-29ff52359fd3"
      },
      "execution_count": 31,
      "outputs": [
        {
          "output_type": "stream",
          "name": "stdout",
          "text": [
            "Shadowfox Internship Program\n",
            "Shadowfox - Internship Form\n",
            "What Our Interns Say\n",
            "Our Educational Networking Institutions\n",
            "Frequently Asked Questions\n"
          ]
        }
      ]
    },
    {
      "cell_type": "code",
      "source": [
        "treasures = [heading.text for heading in headings]\n",
        "print(treasures)"
      ],
      "metadata": {
        "colab": {
          "base_uri": "https://localhost:8080/"
        },
        "id": "TtWVnH2zMBgw",
        "outputId": "6f3a80e7-8b4a-45f0-9233-6ca118b58540"
      },
      "execution_count": 32,
      "outputs": [
        {
          "output_type": "stream",
          "name": "stdout",
          "text": [
            "['Shadowfox Internship Program', 'Shadowfox - Internship Form', 'What Our Interns Say', 'Our Educational Networking Institutions', 'Frequently Asked Questions']\n"
          ]
        }
      ]
    },
    {
      "cell_type": "code",
      "source": [
        "paragraphs = soup.find_all(\"p\")\n",
        "for para in paragraphs:\n",
        "    print(para.text.strip())"
      ],
      "metadata": {
        "colab": {
          "base_uri": "https://localhost:8080/"
        },
        "id": "RJf28M56NZwV",
        "outputId": "582c3f6c-defd-4399-a36f-90a3bcec69a7"
      },
      "execution_count": 33,
      "outputs": [
        {
          "output_type": "stream",
          "name": "stdout",
          "text": [
            "Virtual Internships | Bootcamps\n",
            "Join our dynamic internship program and gain hands-on experience with real-world projects, mentorship from industry experts, and skills that will accelerate your career.\n",
            "Get familiar with our tools, processes, and team culture\n",
            "Personalized learning path based on your current skills\n",
            "Work on real projects with mentor guidance\n",
            "Complete your internship with a certificate and portfolio\n",
            "\"I had a great time doing an internship while learning an ample amount of things. The mentors are so helpful and have a keen expertise in the domain. Beyond the technical aspects, what made the internship stand out is that the mentors are well spoken and they have an exceptional ability to convey information with clarity and precision.\"\n",
            "Bocha Sahith\n",
            "Data Science\n",
            "\"The ShadowFox Virtual Internship was an amazing experience. Working on real projects like my portfolio, an e-commerce site, and a client website for Tanjore Degree Coffee helped me sharpen my technical and creative skills. Thanks to the guidance from Mr. Aakash and the collaborative environment, I gained hands-on web development experience and the confidence to pursue a career in this field.\"\n",
            "Prarthana R Karanth\n",
            "Web Development\n",
            "\"My experience was amazing. The tasks assigned were hands-on and really diverse, presenting various unique challenges in various domains of cybersec. The mentors were really supportive and not just that were accessible for providing any guidance we needed. The community of interns was great, making the environment more enriching.\"\n",
            "Rashi Sharma\n",
            "Cyber Security\n",
            "Choose ShadowFox for a holistic learning experience. Our industry-focused curriculum, led by experienced instructors, ensures you gain practical skills. With hands-on projects, flexible learning, and a supportive community, we go beyond traditional education.\n",
            "To apply for a ShadowFox Virtual Internship Program, fill out the interest form on the internship page by choosing your domain.\n",
            "ShadowFox VIP - Stands for ShadowFox Virtual Internship Program and is a 1 month program\n",
            "Yes, ShadowFox VIP is a completely free internship program. However, there is a documentation and delivery fee for each level to receive the swags, although it is not mandatory if you don't need the swags.\n",
            "You can expect to receive a confirmation from our end approximately one week before the commencement of your tenure period.\n",
            "There are 3 Levels in total, Level - 1(Beginner Tasks),Level - 2(Intermediate tasks) and Level - 3(Advanced tasks/Realtime projects)\n",
            "Yes, we do issue physical certificates for individuals who successfully complete tasks beyond the Level-1(Beginner Level) threshold.\n",
            "info@shadowfox.in\n",
            "+918095778765\n",
            "859J, 3A 13th Main Road, Anna Nagar West, Chennai - 600040.\n",
            "© 2025 All Reserved By ShadowFox\n"
          ]
        }
      ]
    },
    {
      "cell_type": "code",
      "source": [
        "subheadings = soup.find_all([\"h3\", \"h4\"])\n",
        "for sub in subheadings:\n",
        "    print(sub.text.strip())"
      ],
      "metadata": {
        "colab": {
          "base_uri": "https://localhost:8080/"
        },
        "id": "LjajzJ7UNatD",
        "outputId": "f3880fa0-9933-4d52-d8be-116299539202"
      },
      "execution_count": 34,
      "outputs": [
        {
          "output_type": "stream",
          "name": "stdout",
          "text": [
            "What Interns Do at Shadowfox\n",
            "The Internship Journey\n",
            "Onboarding & Orientation\n",
            "Skill Assessment & Training\n",
            "Project Assignment\n",
            "Certification & Portfolio\n",
            "Why might ShadowFox be your choice among various alternatives?\n",
            "How to apply for ShadowFox Virtual Internship Program?\n",
            "What is ShadowFox VIP and how long is the program?\n",
            "Is this internship free?\n",
            "When will I get offer letter after applying?\n",
            "How many levels are there in total?\n",
            "Do you provide physical certificates?\n",
            "Support\n",
            "Follow Us\n",
            "Contact Us\n"
          ]
        }
      ]
    },
    {
      "cell_type": "markdown",
      "source": [
        "***Extract data from websites using websites like Beautiful soup or Scrapy.***\n",
        "\n",
        "1)Amazon"
      ],
      "metadata": {
        "id": "L_VQFYURN4ah"
      }
    },
    {
      "cell_type": "code",
      "source": [
        "!pip install beautifulsoup4 requests\n",
        "import requests\n",
        "from bs4 import BeautifulSoup"
      ],
      "metadata": {
        "colab": {
          "base_uri": "https://localhost:8080/"
        },
        "id": "7yUccMXmOTnh",
        "outputId": "a30ee1c5-eeb5-4b18-9a2a-d58786db94ab"
      },
      "execution_count": 35,
      "outputs": [
        {
          "output_type": "stream",
          "name": "stdout",
          "text": [
            "Requirement already satisfied: beautifulsoup4 in /usr/local/lib/python3.12/dist-packages (4.13.5)\n",
            "Requirement already satisfied: requests in /usr/local/lib/python3.12/dist-packages (2.32.4)\n",
            "Requirement already satisfied: soupsieve>1.2 in /usr/local/lib/python3.12/dist-packages (from beautifulsoup4) (2.8)\n",
            "Requirement already satisfied: typing-extensions>=4.0.0 in /usr/local/lib/python3.12/dist-packages (from beautifulsoup4) (4.15.0)\n",
            "Requirement already satisfied: charset_normalizer<4,>=2 in /usr/local/lib/python3.12/dist-packages (from requests) (3.4.3)\n",
            "Requirement already satisfied: idna<4,>=2.5 in /usr/local/lib/python3.12/dist-packages (from requests) (3.10)\n",
            "Requirement already satisfied: urllib3<3,>=1.21.1 in /usr/local/lib/python3.12/dist-packages (from requests) (2.5.0)\n",
            "Requirement already satisfied: certifi>=2017.4.17 in /usr/local/lib/python3.12/dist-packages (from requests) (2025.8.3)\n"
          ]
        }
      ]
    },
    {
      "cell_type": "code",
      "source": [
        "url = \"https://www.bikewale.com/new-bikes-in-india/\"\n",
        "response = requests.get(url)\n",
        "html_content = response.text"
      ],
      "metadata": {
        "id": "vTvBGkIIOUk-"
      },
      "execution_count": 36,
      "outputs": []
    },
    {
      "cell_type": "code",
      "source": [
        "soup = BeautifulSoup(html_content, \"html.parser\")\n",
        "headings = soup.find_all(\"h2\")\n",
        "for heading in headings:\n",
        "    print(heading.text)"
      ],
      "metadata": {
        "colab": {
          "base_uri": "https://localhost:8080/"
        },
        "id": "twpFzBpVN6Bl",
        "outputId": "70553e4b-b27d-456f-9d66-0fc5228ab9d8"
      },
      "execution_count": 37,
      "outputs": [
        {
          "output_type": "stream",
          "name": "stdout",
          "text": [
            "Browse Bikes By\n",
            "Featured Bikes\n",
            "Trending Bikes of September 2025\n",
            "Go Green, Go Electric.\n",
            "Popular Series\n",
            "Compare Bikes\n",
            "Two Wheeler User Reviews\n",
            "Motorcycle Buying Tools\n",
            "Latest Updates\n",
            "FAQs About New Bikes in India\n"
          ]
        }
      ]
    },
    {
      "cell_type": "code",
      "source": [
        "treasures = [heading.text for heading in headings]\n",
        "print(treasures)"
      ],
      "metadata": {
        "colab": {
          "base_uri": "https://localhost:8080/"
        },
        "id": "9xR-RUWPOgZV",
        "outputId": "27d5861c-6f3a-4db1-cd14-937f1f365b79"
      },
      "execution_count": 38,
      "outputs": [
        {
          "output_type": "stream",
          "name": "stdout",
          "text": [
            "['Browse Bikes By', 'Featured Bikes', 'Trending Bikes of September 2025', 'Go Green, Go Electric.', 'Popular Series', 'Compare Bikes', 'Two Wheeler User Reviews', 'Motorcycle Buying Tools', 'Latest Updates', 'FAQs About New Bikes in India']\n"
          ]
        }
      ]
    },
    {
      "cell_type": "code",
      "source": [
        "paragraphs = soup.find_all(\"p\")\n",
        "for para in paragraphs:\n",
        "    print(para.text.strip())"
      ],
      "metadata": {
        "colab": {
          "base_uri": "https://localhost:8080/"
        },
        "id": "uMCy9NqeOjNb",
        "outputId": "bf0dc80b-0d3c-4036-9227-566172e949b7"
      },
      "execution_count": 39,
      "outputs": [
        {
          "output_type": "stream",
          "name": "stdout",
          "text": [
            "Finding the right bike can be a complicated process for most of us. BikeWale helps you in making this process easier. You can search bikes based on brands, body styles, price, and displacement. Explore all the new bike models with their price in India. BikeWale brings you all the updates & expert reviews related to new bikes in India.\n",
            "₹  1.90 - 2.00 LakhOnwards\n",
            "Notify me\n",
            "₹  2.60 - 2.90 LakhOnwards\n",
            "Notify me\n",
            "₹  11.50 - 12.00 LakhOnwards\n",
            "Notify me\n",
            "₹  3.50 - 3.60 LakhOnwards\n",
            "Notify me\n",
            "₹  0.90 - 1.00 LakhOnwards\n",
            "Notify me\n",
            "₹  1.00 - 1.20 LakhOnwards\n",
            "Notify me\n",
            "₹  2.20 - 2.30 LakhOnwards\n",
            "Notify me\n",
            "₹  15.00 - 17.00 LakhOnwards\n",
            "Notify me\n",
            "₹  17.00 - 18.00 LakhOnwards\n",
            "Notify me\n",
            "40+ electric bikes and scooters\n",
            "3000+ unbiased, verified reviews from bike owners. Know the pros and cons of 200+ bike models from real owners.\n",
            "Rating Parameters\n",
            "(out of 5)\n",
            "Design and styling\n",
            "Performance\n",
            "Comfort\n",
            "Service experience\n",
            "Value for money\n",
            "Features and Technology\n",
            "About the Reviewer\n",
            "Ridden for (If Owned)\n",
            "0-5000 km\n",
            "Rating Parameters\n",
            "(out of 5)\n",
            "Design and styling\n",
            "Performance\n",
            "Comfort\n",
            "Service experience\n",
            "Value for money\n",
            "Features and Technology\n",
            "About the Reviewer\n",
            "Ridden for (If Owned)\n",
            "Never Owned\n",
            "Rating Parameters\n",
            "(out of 5)\n",
            "Design and styling\n",
            "Performance\n",
            "Comfort\n",
            "Service experience\n",
            "Value for money\n",
            "Features and Technology\n",
            "About the Reviewer\n",
            "Ridden for (If Owned)\n",
            "0-5000 km\n",
            "Rating Parameters\n",
            "(out of 5)\n",
            "Design and styling\n",
            "Performance\n",
            "Comfort\n",
            "Service experience\n",
            "Value for money\n",
            "Features and Technology\n",
            "About the Reviewer\n",
            "Ridden for (If Owned)\n",
            "15000+ km\n",
            "Rating Parameters\n",
            "(out of 5)\n",
            "Design and styling\n",
            "Performance\n",
            "Comfort\n",
            "Service experience\n",
            "Value for money\n",
            "Features and Technology\n",
            "About the Reviewer\n",
            "Ridden for (If Owned)\n",
            "0-5000 km\n",
            "By Rishabh Bhaskar10 minutes ago\n",
            "By Rishabh Bhaskar1 hour ago\n",
            "By Pratheek Kunder5 hours ago\n",
            "By Anuj Mishra2 days ago\n",
            "By Haji Chakralwale3 days ago\n",
            "By Vikrant Singh5 days ago\n",
            "Download Mobile App\n",
            "Download Mobile App\n",
            "Connect with us\n",
            "© BikeWale India.\n"
          ]
        }
      ]
    },
    {
      "cell_type": "code",
      "source": [
        "subheadings = soup.find_all([\"h3\", \"h4\"])\n",
        "for sub in subheadings:\n",
        "    print(sub.text.strip())"
      ],
      "metadata": {
        "id": "XMkmwh6JOmGr"
      },
      "execution_count": 41,
      "outputs": []
    }
  ]
}