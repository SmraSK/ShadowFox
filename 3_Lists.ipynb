{
  "nbformat": 4,
  "nbformat_minor": 0,
  "metadata": {
    "colab": {
      "provenance": [],
      "authorship_tag": "ABX9TyMI2MAIn6Er9CSUWXQndya3",
      "include_colab_link": true
    },
    "kernelspec": {
      "name": "python3",
      "display_name": "Python 3"
    },
    "language_info": {
      "name": "python"
    }
  },
  "cells": [
    {
      "cell_type": "markdown",
      "metadata": {
        "id": "view-in-github",
        "colab_type": "text"
      },
      "source": [
        "<a href=\"https://colab.research.google.com/github/SmraSK/ShadowFox/blob/main/3_Lists.ipynb\" target=\"_parent\"><img src=\"https://colab.research.google.com/assets/colab-badge.svg\" alt=\"Open In Colab\"/></a>"
      ]
    },
    {
      "cell_type": "markdown",
      "source": [
        "***3. List***\n",
        "\n",
        "You have a list of superheroes representing the Justice\n",
        "League. justice_league = [\"Superman\"\n",
        ",\n",
        "\"Batman\"\n",
        ",\n",
        " \"Wonder Woman\"\n",
        ", \"Flash\", \"Aquaman\"\n",
        ",\n",
        "\"Green Lantern\"]"
      ],
      "metadata": {
        "id": "dDD64SFxxtsE"
      }
    },
    {
      "cell_type": "markdown",
      "source": [
        "1. Calculate the number of members in the Justice League."
      ],
      "metadata": {
        "id": "Ur9TZSFmx1Kj"
      }
    },
    {
      "cell_type": "code",
      "source": [
        "justice_league = [\"Superman\" , \"Batman\" , \"Wonder Woman\" , \"Flash\" , \"Aquaman\" , \"Green Lantern\"]\n",
        "print(len(justice_league))"
      ],
      "metadata": {
        "colab": {
          "base_uri": "https://localhost:8080/"
        },
        "id": "q9iMwDeuyEFN",
        "outputId": "7975eb94-830e-432e-8981-067627c0dee4"
      },
      "execution_count": 1,
      "outputs": [
        {
          "output_type": "stream",
          "name": "stdout",
          "text": [
            "6\n"
          ]
        }
      ]
    },
    {
      "cell_type": "markdown",
      "source": [
        "2. Batman recruited Batgirl and Nightwing as new members.\n",
        "Add them to your list."
      ],
      "metadata": {
        "id": "yUsJHZkny1uQ"
      }
    },
    {
      "cell_type": "code",
      "source": [
        "justice_league.append(\"Batgirl\")\n",
        "justice_league.append(\"Nightwing\")\n",
        "print(justice_league)"
      ],
      "metadata": {
        "colab": {
          "base_uri": "https://localhost:8080/"
        },
        "id": "AIEJxtOly8K8",
        "outputId": "485759aa-f7da-4ecd-f49f-d8446a9c463f"
      },
      "execution_count": 2,
      "outputs": [
        {
          "output_type": "stream",
          "name": "stdout",
          "text": [
            "['Superman', 'Batman', 'Wonder Woman', 'Flash', 'Aquaman', 'Green Lantern', 'Batgirl', 'Nightwing']\n"
          ]
        }
      ]
    },
    {
      "cell_type": "markdown",
      "source": [
        "3. Wonder Woman is now the leader of the Justice League.\n",
        "Move her to the beginning of the list."
      ],
      "metadata": {
        "id": "U16AJsq7zfBB"
      }
    },
    {
      "cell_type": "code",
      "source": [
        "justice_league.remove(\"Wonder Woman\")\n",
        "justice_league.insert(0, \"Wonder Woman\")\n",
        "print(justice_league)"
      ],
      "metadata": {
        "colab": {
          "base_uri": "https://localhost:8080/"
        },
        "id": "QoRxoEhezjSj",
        "outputId": "5b260c88-c060-4a21-9ad9-f4f9907f35e2"
      },
      "execution_count": 3,
      "outputs": [
        {
          "output_type": "stream",
          "name": "stdout",
          "text": [
            "['Wonder Woman', 'Superman', 'Batman', 'Flash', 'Aquaman', 'Green Lantern', 'Batgirl', 'Nightwing']\n"
          ]
        }
      ]
    },
    {
      "cell_type": "markdown",
      "source": [
        "4. Aquaman and Flash are having conflicts, and you need to separate them. Choose either \"Green Lantern\" or \"Superman\" and move them in between Aquaman and Flash."
      ],
      "metadata": {
        "id": "qQ9Tgg8f1KeJ"
      }
    },
    {
      "cell_type": "code",
      "source": [
        "i, j = 4, 5  # Indices to swap\n",
        "\n",
        "justice_league[i], justice_league[j] = justice_league[j], justice_league[i]\n",
        "print(justice_league)\n"
      ],
      "metadata": {
        "colab": {
          "base_uri": "https://localhost:8080/"
        },
        "id": "h7cq7viw1JSr",
        "outputId": "4137f329-53ad-4997-9205-b95940bfbadd"
      },
      "execution_count": 4,
      "outputs": [
        {
          "output_type": "stream",
          "name": "stdout",
          "text": [
            "['Wonder Woman', 'Superman', 'Batman', 'Flash', 'Green Lantern', 'Aquaman', 'Batgirl', 'Nightwing']\n"
          ]
        }
      ]
    },
    {
      "cell_type": "markdown",
      "source": [
        "5. The Justice League faced a crisis, and Superman decided to\n",
        "assemble a new team. Replace the existing list with the following\n",
        "new members: \"Cyborg\"\n",
        ",\n",
        "\"Shazam\"\n",
        ",\n",
        "\"Hawkgirl\"\n",
        ",\n",
        "\"Martian\n",
        "Manhunter\"\n",
        ",\"Green Arrow\"."
      ],
      "metadata": {
        "id": "b0VKJAtU2Ubj"
      }
    },
    {
      "cell_type": "code",
      "source": [
        "justice_league = [\"Cyborg\" , \"Shazam\" , \"Hawkgirl\" , \"Martian Manhunter\" , \"Green Arrow\"]\n",
        "print(justice_league)"
      ],
      "metadata": {
        "colab": {
          "base_uri": "https://localhost:8080/"
        },
        "id": "UmqhcHz62aLi",
        "outputId": "c018e1b5-6b0e-4fb5-dc74-e131a40370f8"
      },
      "execution_count": 5,
      "outputs": [
        {
          "output_type": "stream",
          "name": "stdout",
          "text": [
            "['Cyborg', 'Shazam', 'Hawkgirl', 'Martian Manhunter', 'Green Arrow']\n"
          ]
        }
      ]
    },
    {
      "cell_type": "markdown",
      "source": [
        "6. Sort the Justice League alphabetically. The hero at the 0th\n",
        "index will become the new leader."
      ],
      "metadata": {
        "id": "7qL_Hwub3I3r"
      }
    },
    {
      "cell_type": "code",
      "source": [
        "sorted_justice_league = sorted(justice_league)\n",
        "print(sorted_justice_league)"
      ],
      "metadata": {
        "colab": {
          "base_uri": "https://localhost:8080/"
        },
        "id": "xH8trTHS3Kg-",
        "outputId": "96811bc9-f3b1-4825-f3de-83f559bf7910"
      },
      "execution_count": 6,
      "outputs": [
        {
          "output_type": "stream",
          "name": "stdout",
          "text": [
            "['Cyborg', 'Green Arrow', 'Hawkgirl', 'Martian Manhunter', 'Shazam']\n"
          ]
        }
      ]
    },
    {
      "cell_type": "code",
      "source": [
        "sorted_justice_league[0]"
      ],
      "metadata": {
        "colab": {
          "base_uri": "https://localhost:8080/",
          "height": 35
        },
        "id": "vdmpMWNZ4Ol6",
        "outputId": "74dbf479-8383-4e99-ec41-fd496cdc3274"
      },
      "execution_count": 7,
      "outputs": [
        {
          "output_type": "execute_result",
          "data": {
            "text/plain": [
              "'Cyborg'"
            ],
            "application/vnd.google.colaboratory.intrinsic+json": {
              "type": "string"
            }
          },
          "metadata": {},
          "execution_count": 7
        }
      ]
    },
    {
      "cell_type": "markdown",
      "source": [
        "The 0th index of sorted_justice_league is Cyborg. Therefore, Cyborg becomes the new leader."
      ],
      "metadata": {
        "id": "wYF49SSJ4Xq4"
      }
    }
  ]
}