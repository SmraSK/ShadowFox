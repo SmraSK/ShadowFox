{
  "nbformat": 4,
  "nbformat_minor": 0,
  "metadata": {
    "colab": {
      "provenance": [],
      "authorship_tag": "ABX9TyPRO8ZMBNU3MOp0rln1xkcr",
      "include_colab_link": true
    },
    "kernelspec": {
      "name": "python3",
      "display_name": "Python 3"
    },
    "language_info": {
      "name": "python"
    }
  },
  "cells": [
    {
      "cell_type": "markdown",
      "metadata": {
        "id": "view-in-github",
        "colab_type": "text"
      },
      "source": [
        "<a href=\"https://colab.research.google.com/github/SmraSK/ShadowFox/blob/main/5_ForLoop_py.ipynb\" target=\"_parent\"><img src=\"https://colab.research.google.com/assets/colab-badge.svg\" alt=\"Open In Colab\"/></a>"
      ]
    },
    {
      "cell_type": "markdown",
      "source": [
        "***5.For Loop***"
      ],
      "metadata": {
        "id": "MEWSjT_A220b"
      }
    },
    {
      "cell_type": "markdown",
      "source": [
        "1. Using a for loop, simulate rolling a sixsided die multiple times (at least 20\n",
        "times).\n",
        "Count and print the following statistics:\n",
        "How many times you rolled a 6\n",
        "How many times you rolled a 1\n",
        "How many times you rolled two 6s in a row"
      ],
      "metadata": {
        "id": "TiTPzIOvwtz2"
      }
    },
    {
      "cell_type": "code",
      "execution_count": 64,
      "metadata": {
        "colab": {
          "base_uri": "https://localhost:8080/"
        },
        "id": "_wPPTQdTSFhu",
        "outputId": "63225f3a-d721-403e-eb81-b013b91062d4"
      },
      "outputs": [
        {
          "output_type": "stream",
          "name": "stdout",
          "text": [
            "Roll 1: 6\n",
            "Roll 2: 3\n",
            "Roll 3: 1\n",
            "Roll 4: 2\n",
            "Roll 5: 4\n",
            "Roll 6: 5\n",
            "Roll 7: 2\n",
            "Roll 8: 5\n",
            "Roll 9: 5\n",
            "Roll 10: 1\n",
            "Roll 11: 1\n",
            "Roll 12: 2\n",
            "Roll 13: 3\n",
            "Roll 14: 5\n",
            "Roll 15: 4\n",
            "Roll 16: 4\n",
            "Roll 17: 4\n",
            "Roll 18: 6\n",
            "Roll 19: 2\n",
            "Roll 20: 2\n",
            "How many times you rolled a 6: 2\n",
            "How many times you rolled a 1: 3\n",
            "How many times you rolled two 6s in a row: 0\n"
          ]
        }
      ],
      "source": [
        "import random\n",
        "\n",
        "count_6 = 0\n",
        "count_1 = 0\n",
        "count_two_6s_in_a_row = 0\n",
        "previous_roll = 0\n",
        "\n",
        "for i in range(20):\n",
        "    roll = random.randint(1, 6)\n",
        "    print(f\"Roll {i + 1}: {roll}\")\n",
        "    if roll == 6:\n",
        "        count_6 += 1\n",
        "        if previous_roll == 6:\n",
        "            count_two_6s_in_a_row += 1\n",
        "    elif roll == 1:\n",
        "        count_1 += 1\n",
        "    previous_roll = roll\n",
        "\n",
        "print(f\"How many times you rolled a 6: {count_6}\")\n",
        "print(f\"How many times you rolled a 1: {count_1}\")\n",
        "print(f\"How many times you rolled two 6s in a row: {count_two_6s_in_a_row}\")"
      ]
    },
    {
      "cell_type": "markdown",
      "source": [
        "2. Imagine you are doing a workout routine, and you have to complete 100\n",
        "jumping jacks.\n",
        "\n",
        "Write a program that:\n",
        "Asks you to perform 10 jumping jacks at a time.\n",
        "After each set, it asks, \"Are you tired?\"\n",
        "If you reply \"yes\" or \"y,\" it should ask if you want to skip the remaining sets.\n",
        "If you reply \"yes\" or \"y,\" it should break and print, \"You completed a total of\n",
        "jumping jacks.\"\n",
        "\n",
        "For example, if you did only 30 jumping jacks and answered \"yes,\" the program\n",
        "will break and print, \"You completed a total of 30 jumping jacks.\"\n",
        "\n",
        "If you reply \"no\" or \"n,\" it should continue and display how many jumping jacks\n",
        "are remaining. After that, ask you again, \"Are you tired?\"\n",
        "\n",
        "For example,\n",
        "if you answered \"no,\" it should display that 70 jumping jacks are\n",
        "remaining and ask you again, \"Are you tired?\"\n",
        "If you reply \"no\" or \"n,\" it should continue and display how many jumping jacks\n",
        "are remaining. After that, ask you again, \"Are you tired?\"\n",
        "\n",
        "For example, if you answered \"no,\" it should display that 70 jumping jacks are\n",
        "remaining and ask you again, \"Are you tired?\"\n",
        "\n",
        "If you complete all 100 jumping jacks, it should print, \"Congratulations! You\n",
        "completed the workout,\" and stop the program"
      ],
      "metadata": {
        "id": "kBGFowbh3C_Q"
      }
    },
    {
      "cell_type": "code",
      "source": [
        "total_jumping_jacks = 100\n",
        "jumping_jacks_per_set = 10\n",
        "completed_jumping_jacks = 0\n",
        "\n",
        "while completed_jumping_jacks < total_jumping_jacks:\n",
        "    print(f\"Please perform {jumping_jacks_per_set} jumping jacks.\")\n",
        "    completed_jumping_jacks += jumping_jacks_per_set\n",
        "    print(f\"You have now completed a total of {completed_jumping_jacks} jumping jacks.\")\n",
        "    if completed_jumping_jacks < total_jumping_jacks:\n",
        "        tired_input = input(\"Are you tired? (Type 'yes' or 'no'): \").lower()\n",
        "        if tired_input == \"yes\" or tired_input == \"y\":\n",
        "            skip_input = input(\"Do you want to skip the remaining sets? (Type 'yes' or 'no'): \").lower()\n",
        "            if skip_input == \"yes\" or skip_input == \"y\":\n",
        "                print(f\"Okay, you completed a total of {completed_jumping_jacks} jumping jacks.\")\n",
        "                break\n",
        "        elif tired_input == \"no\" or tired_input == \"n\":\n",
        "            remaining_jumping_jacks = total_jumping_jacks - completed_jumping_jacks\n",
        "            print(f\"Great! You have {remaining_jumping_jacks} jumping jacks remaining.\")\n",
        "        else:\n",
        "            print(\"That's not a valid answer. Please type 'yes' or 'no'.\")\n",
        "if completed_jumping_jacks >= total_jumping_jacks:\n",
        "    print(\"Congratulations! You completed the entire workout!\")"
      ],
      "metadata": {
        "colab": {
          "base_uri": "https://localhost:8080/"
        },
        "id": "isYJPht93Qhs",
        "outputId": "d9726c7a-4260-4af4-9271-87239522808c"
      },
      "execution_count": 70,
      "outputs": [
        {
          "output_type": "stream",
          "name": "stdout",
          "text": [
            "Please perform 10 jumping jacks.\n",
            "You have now completed a total of 10 jumping jacks.\n",
            "Are you tired? (Type 'yes' or 'no'): n\n",
            "Great! You have 90 jumping jacks remaining.\n",
            "Please perform 10 jumping jacks.\n",
            "You have now completed a total of 20 jumping jacks.\n",
            "Are you tired? (Type 'yes' or 'no'): y\n",
            "Do you want to skip the remaining sets? (Type 'yes' or 'no'): n\n",
            "Please perform 10 jumping jacks.\n",
            "You have now completed a total of 30 jumping jacks.\n",
            "Are you tired? (Type 'yes' or 'no'): n\n",
            "Great! You have 70 jumping jacks remaining.\n",
            "Please perform 10 jumping jacks.\n",
            "You have now completed a total of 40 jumping jacks.\n",
            "Are you tired? (Type 'yes' or 'no'): n\n",
            "Great! You have 60 jumping jacks remaining.\n",
            "Please perform 10 jumping jacks.\n",
            "You have now completed a total of 50 jumping jacks.\n",
            "Are you tired? (Type 'yes' or 'no'): n\n",
            "Great! You have 50 jumping jacks remaining.\n",
            "Please perform 10 jumping jacks.\n",
            "You have now completed a total of 60 jumping jacks.\n",
            "Are you tired? (Type 'yes' or 'no'): n\n",
            "Great! You have 40 jumping jacks remaining.\n",
            "Please perform 10 jumping jacks.\n",
            "You have now completed a total of 70 jumping jacks.\n",
            "Are you tired? (Type 'yes' or 'no'): n\n",
            "Great! You have 30 jumping jacks remaining.\n",
            "Please perform 10 jumping jacks.\n",
            "You have now completed a total of 80 jumping jacks.\n",
            "Are you tired? (Type 'yes' or 'no'): n\n",
            "Great! You have 20 jumping jacks remaining.\n",
            "Please perform 10 jumping jacks.\n",
            "You have now completed a total of 90 jumping jacks.\n",
            "Are you tired? (Type 'yes' or 'no'): n\n",
            "Great! You have 10 jumping jacks remaining.\n",
            "Please perform 10 jumping jacks.\n",
            "You have now completed a total of 100 jumping jacks.\n",
            "Congratulations! You completed the entire workout!\n"
          ]
        }
      ]
    }
  ]
}